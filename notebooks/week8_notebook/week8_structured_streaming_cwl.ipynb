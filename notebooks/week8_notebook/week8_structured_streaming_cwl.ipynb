{
 "cells": [
  {
   "cell_type": "markdown",
   "id": "funded-citizenship",
   "metadata": {},
   "source": [
    "# Spark Structured Streaming from Files"
   ]
  },
  {
   "cell_type": "markdown",
   "id": "consolidated-czech",
   "metadata": {},
   "source": [
    "Here we use spark session to read stream from a folder and continuously receive files as stream from the folder"
   ]
  },
  {
   "cell_type": "code",
   "execution_count": null,
   "id": "transsexual-execution",
   "metadata": {},
   "outputs": [],
   "source": [
    "from pyspark.sql import SparkSession\n",
    "\n",
    "spark = SparkSession.builder.master('local[*]').appName(\"Structured Streaming CWL\").getOrCreate()"
   ]
  },
  {
   "cell_type": "markdown",
   "id": "affiliated-climb",
   "metadata": {},
   "source": [
    "To read from stream, schema has to be defined. You can pre-define the schema based on the data. Here we put some files in the folder first, infer schema from those files, then apply the same schema to read from stream."
   ]
  },
  {
   "cell_type": "code",
   "execution_count": null,
   "id": "dedicated-climb",
   "metadata": {},
   "outputs": [],
   "source": [
    "file_dir = './spark_streaming_cwl/'\n",
    "static_df = spark.read.option(\"maxFilesPerTrigger\", 1).option('inferSchema', True).json(file_dir)"
   ]
  },
  {
   "cell_type": "code",
   "execution_count": null,
   "id": "occupied-albania",
   "metadata": {},
   "outputs": [],
   "source": [
    "streaming_df = spark.readStream.schema(static_df.schema).option(\"maxFilesPerTrigger\", 1).json(file_dir)"
   ]
  },
  {
   "cell_type": "markdown",
   "id": "martial-qatar",
   "metadata": {},
   "source": [
    "# Structured Dataframe API Operation\n",
    "Here we just count the number for each map"
   ]
  },
  {
   "cell_type": "code",
   "execution_count": null,
   "id": "selected-workstation",
   "metadata": {},
   "outputs": [],
   "source": [
    "streaming_count_df = streaming_df.groupBy(streaming_df.map).count()\n",
    "streaming_count_df.isStreaming"
   ]
  },
  {
   "cell_type": "markdown",
   "id": "retained-tracker",
   "metadata": {},
   "source": [
    "# Output through query"
   ]
  },
  {
   "cell_type": "code",
   "execution_count": null,
   "id": "suspected-abraham",
   "metadata": {},
   "outputs": [],
   "source": [
    "query = (\n",
    "  streaming_count_df\n",
    "    .writeStream\n",
    "    .format(\"memory\")        # memory = store in-memory table \n",
    "    .queryName(\"counts\")     # counts = name of the in-memory table\n",
    "    .outputMode(\"complete\")  # complete = all the counts should be in the table\n",
    "    .start()\n",
    ")"
   ]
  },
  {
   "cell_type": "markdown",
   "id": "swedish-inventory",
   "metadata": {},
   "source": [
    "# Check the query results"
   ]
  },
  {
   "cell_type": "code",
   "execution_count": null,
   "id": "neural-discretion",
   "metadata": {},
   "outputs": [],
   "source": [
    "spark.sql('select * from counts').show()"
   ]
  },
  {
   "cell_type": "code",
   "execution_count": null,
   "id": "binding-connection",
   "metadata": {},
   "outputs": [],
   "source": []
  }
 ],
 "metadata": {
  "kernelspec": {
   "display_name": "Python 3",
   "language": "python",
   "name": "python3"
  },
  "language_info": {
   "codemirror_mode": {
    "name": "ipython",
    "version": 3
   },
   "file_extension": ".py",
   "mimetype": "text/x-python",
   "name": "python",
   "nbconvert_exporter": "python",
   "pygments_lexer": "ipython3",
   "version": "3.8.6"
  }
 },
 "nbformat": 4,
 "nbformat_minor": 5
}

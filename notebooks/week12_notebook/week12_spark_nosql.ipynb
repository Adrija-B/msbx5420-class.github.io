{
 "cells": [
  {
   "cell_type": "markdown",
   "id": "scheduled-hudson",
   "metadata": {},
   "source": [
    "## Use Spark with NoSQL Databases (MongoDB)"
   ]
  },
  {
   "cell_type": "code",
   "execution_count": null,
   "id": "serial-pharmacology",
   "metadata": {},
   "outputs": [],
   "source": [
    "#package download\n",
    "#!wget https://search.maven.org/remotecontent?filepath=org/mongodb/spark/mongo-spark-connector_2.12/3.0.1/mongo-spark-connector_2.12-3.0.1.jar\n",
    "#!wget https://repo1.maven.org/maven2/org/mongodb/mongodb-driver/3.12.8/mongodb-driver-3.12.8.jar\n",
    "#!wget https://repo1.maven.org/maven2/org/mongodb/mongodb-driver-core/3.12.8/mongodb-driver-core-3.12.8.jar\n",
    "#!wget https://repo1.maven.org/maven2/org/mongodb/bson/3.12.8/bson-3.12.8.jar\n",
    "#for debug use\n",
    "#spark = SparkSession.builder.master('local[4]').config(\"spark.jars\", \"mongo-spark-connector_2.12-3.0.1.jar\") \\\n",
    "#                                               .config(\"spark.jars\", \"mongodb-driver-3.12.8.jar\") \\\n",
    "#                                               .config(\"spark.jars\", \"mongodb-driver-core-3.12.8.jar\") \\\n",
    "#                                               .config(\"spark.jars\", \"bson-3.12.8.jar\") \\\n",
    "#                                               .config(\"spark.jars.packages\", \"org.mongodb.spark:mongo-spark-connector_2.12:3.0.1\") \\\n",
    "#                                               .appName('spark_mongodb').getOrCreate()"
   ]
  },
  {
   "cell_type": "code",
   "execution_count": null,
   "id": "subtle-arcade",
   "metadata": {},
   "outputs": [],
   "source": [
    "from pyspark.sql import SparkSession\n",
    "spark = SparkSession.builder.master('local[4]').config(\"spark.jars\", \"mongo-spark-connector_2.12-3.0.1.jar\") \\\n",
    "                                               .config(\"spark.jars.packages\", \"org.mongodb.spark:mongo-spark-connector_2.12:3.0.1\") \\\n",
    "                                               .appName('spark_mongodb').getOrCreate()"
   ]
  },
  {
   "cell_type": "code",
   "execution_count": null,
   "id": "together-score",
   "metadata": {},
   "outputs": [],
   "source": [
    "#make sure you specify the correct mongodb host and port - in another docker container, we use hostname as my-mongodb and it is running at port 27017\n",
    "news_df = spark.read.format(\"mongo\").option(\"uri\", \"mongodb://my-mongodb:27017/hackernews.news\").load()"
   ]
  },
  {
   "cell_type": "code",
   "execution_count": null,
   "id": "excellent-seller",
   "metadata": {},
   "outputs": [],
   "source": [
    "news_df.show()\n",
    "news_df.printSchema()"
   ]
  }
 ],
 "metadata": {
  "kernelspec": {
   "display_name": "Python 3 (ipykernel)",
   "language": "python",
   "name": "python3"
  },
  "language_info": {
   "codemirror_mode": {
    "name": "ipython",
    "version": 3
   },
   "file_extension": ".py",
   "mimetype": "text/x-python",
   "name": "python",
   "nbconvert_exporter": "python",
   "pygments_lexer": "ipython3",
   "version": "3.9.7"
  }
 },
 "nbformat": 4,
 "nbformat_minor": 5
}

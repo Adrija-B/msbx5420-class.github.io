{
 "cells": [
  {
   "cell_type": "markdown",
   "id": "compressed-access",
   "metadata": {},
   "source": [
    "# Introduction to Graph Analysis with Spark GraphFrames\n",
    "## Flight Graph / Network Analysis\n",
    "Source Data: \n",
    "* [OpenFlights: Airport, airline and route data](http://openflights.org/data.html)\n",
    "* [United States Department of Transportation: Bureau of Transportation Statistics (TranStats)](http://www.transtats.bts.gov/DL_SelectFields.asp?Table_ID=236&DB_Short_Name=On-Time)\n",
    "\n",
    "Note the data used here was extracted from data between 1/1/2014 and 1/31/2014"
   ]
  },
  {
   "cell_type": "code",
   "execution_count": null,
   "id": "contained-nepal",
   "metadata": {},
   "outputs": [],
   "source": [
    "#get grameframes; it is not an official part of spark yet\n",
    "#you only need to run this once with docker if you don't have it, and no need to do it on cluster\n",
    "#!wget http://dl.bintray.com/spark-packages/maven/graphframes/graphframes/0.8.1-spark3.0-s_2.12/graphframes-0.8.1-spark3.0-s_2.12.jar"
   ]
  },
  {
   "cell_type": "code",
   "execution_count": null,
   "id": "japanese-administrator",
   "metadata": {},
   "outputs": [],
   "source": [
    "from pyspark.sql import SparkSession\n",
    "spark = SparkSession.builder.master('local[4]') \\\n",
    "                    .config(\"spark.executor.memory\", \"1g\") \\\n",
    "                    .config(\"spark.driver.memory\", \"1g\") \\\n",
    "                    .config(\"spark.jars\", \"graphframes-0.8.1-spark3.0-s_2.12.jar\") \\\n",
    "                    .config(\"spark.packages\", \"graphframes:graphframes:0.8.1-spark3.0-s_2.12\") \\\n",
    "                    .appName('spark_graphframe').getOrCreate()"
   ]
  },
  {
   "cell_type": "code",
   "execution_count": null,
   "id": "statistical-dealing",
   "metadata": {},
   "outputs": [],
   "source": [
    "#we need to add the jar file to use the package\n",
    "sc = spark.sparkContext\n",
    "sc.getConf().getAll()\n",
    "sc.addPyFile('graphframes-0.8.1-spark3.0-s_2.12.jar')\n",
    "#on cluster you can get it from (only available for second cluster)\n",
    "#sc.addPyFile('s3://msbx5420-spr21/zhiyiwang/graphframes-0.8.1-spark3.0-s_2.12.jar')"
   ]
  },
  {
   "cell_type": "markdown",
   "id": "accredited-cattle",
   "metadata": {},
   "source": [
    "### Data Preparation"
   ]
  },
  {
   "cell_type": "code",
   "execution_count": null,
   "id": "southeast-hammer",
   "metadata": {},
   "outputs": [],
   "source": [
    "#load airports dataset\n",
    "airports_na = spark.read.csv('./flight-data/airport-codes-na.txt', header='true', inferSchema='true', sep='\\t')\n",
    "airports_na.show()\n",
    "airports_na.createOrReplaceTempView(\"airports_na\")\n",
    "\n",
    "#load flights departure delay data\n",
    "departure_delays = spark.read.csv('./flight-data/departuredelays.csv', header='true', inferSchema='true')\n",
    "departure_delays.show()\n",
    "departure_delays.createOrReplaceTempView(\"departure_delays\")\n",
    "#departure_delays.cache()"
   ]
  },
  {
   "cell_type": "code",
   "execution_count": null,
   "id": "concrete-point",
   "metadata": {},
   "outputs": [],
   "source": [
    "#use available IATA codes from the departuredelays to sample dataset\n",
    "trip_IATA = spark.sql(\"select distinct IATA from (select distinct origin as iata from departure_delays union all select distinct destination as iata from departure_delays)\")\n",
    "trip_IATA.show()\n",
    "trip_IATA.createOrReplaceTempView(\"trip_IATA\")\n",
    "\n",
    "#only include airports with at least one trip from the departure delays dataset\n",
    "airports = spark.sql(\"select a.IATA, a.City, a.State, a.Country from airports_na a, trip_IATA b where a.IATA = b.IATA\")\n",
    "airports.show()\n",
    "airports.createOrReplaceTempView(\"airports\")\n",
    "#airports.cache()"
   ]
  },
  {
   "cell_type": "code",
   "execution_count": null,
   "id": "accessible-verification",
   "metadata": {},
   "outputs": [],
   "source": [
    "departure_delays.show()\n",
    "departure_delays.count()"
   ]
  },
  {
   "cell_type": "code",
   "execution_count": null,
   "id": "northern-manitoba",
   "metadata": {},
   "outputs": [],
   "source": [
    "#build `departure_gelays_geo` dataframe\n",
    "#obtain key attributes such as date of flight, delays, distance, and airport information (Origin, Destination)  \n",
    "departure_delays_geo = spark.sql(\"select cast(a.date as int) as trip_id, \\\n",
    "                                 cast(concat('2014-', substr(cast(a.date as string), 1, 1), '-', substr(cast(a.date as string), 2, 2), ' ', \\\n",
    "                                 substr(cast(a.date as string), 4, 2), ':', substr(cast(a.date as string), 6, 2), ':00') as timestamp) as local_date, \\\n",
    "                                 cast(a.delay as int), cast(a.distance as int), a.origin as src, a.destination as dst, b.city as city_src, \\\n",
    "                                 c.city as city_dst, b.state as state_src, c.state as state_dst \\\n",
    "                                 from departure_delays a, airports b, airports c where a.origin = b.iata and a.destination = c.iata\") \n",
    "\n",
    "departure_delays_geo.createOrReplaceTempView(\"departure_delays_geo\")\n",
    "departure_delays_geo.show()\n",
    "#departure_delays_geo.cache()\n",
    "departure_delays_geo.count()"
   ]
  },
  {
   "cell_type": "markdown",
   "id": "nearby-tournament",
   "metadata": {},
   "source": [
    "### Building the Graph\n",
    "Now that we've imported our data, we can build our graph. To do so we're going to do two things: we are going to build the structure of the vertices (or nodes) and the structure of the edges. The match the naming requirement, we will do:\n",
    "\n",
    "* Rename IATA airport code to **id** in the vertices dadaframe\n",
    "* Make sure start and end airports as **src** and **dst** for the edges dataframe (flights)\n",
    "\n",
    "These are naming conventions for vertices and edges in GraphFrames."
   ]
  },
  {
   "cell_type": "code",
   "execution_count": null,
   "id": "sorted-burton",
   "metadata": {},
   "outputs": [],
   "source": [
    "#make sure you have already added the GraphFrames package\n",
    "import pyspark.sql.functions as fn\n",
    "from graphframes import *\n",
    "\n",
    "#create vertices (airports) and edges (flights)\n",
    "trip_vertices = airports.withColumnRenamed(\"IATA\", \"id\").distinct()\n",
    "trip_edges = departure_delays_geo.select(\"trip_id\", \"delay\", \"src\", \"dst\", \"city_src\", \"city_dst\", \"state_src\", \"state_dst\")\n",
    "\n",
    "#trip_vertices.cache()\n",
    "#trip_edges.cache()"
   ]
  },
  {
   "cell_type": "code",
   "execution_count": null,
   "id": "crude-economics",
   "metadata": {},
   "outputs": [],
   "source": [
    "#build `trip_graph` GraphFrame\n",
    "#this GraphFrame builds up on the vertices and edges based on our trips (flights)\n",
    "trip_graph = GraphFrame(trip_vertices, trip_edges)\n",
    "print(trip_graph)\n",
    "\n",
    "#build `trip_graph_prime` GraphFrame\n",
    "#this graphframe contains a smaller subset of data to make it easier to display motifs and subgraphs (later)\n",
    "trip_edges_prime = departure_delays_geo.select(\"trip_id\", \"delay\", \"src\", \"dst\")\n",
    "trip_graph_prime = GraphFrame(trip_vertices, trip_edges_prime)"
   ]
  },
  {
   "cell_type": "markdown",
   "id": "accredited-checklist",
   "metadata": {},
   "source": [
    "### Perform Queries on the Graph\n",
    "Let's start with a set of simple graph queries to understand flight performance and departure delays"
   ]
  },
  {
   "cell_type": "markdown",
   "id": "verified-buying",
   "metadata": {},
   "source": [
    "#### Determine the number of airports and trips"
   ]
  },
  {
   "cell_type": "code",
   "execution_count": null,
   "id": "professional-devices",
   "metadata": {},
   "outputs": [],
   "source": [
    "print(\"Airports: {0}\".format(trip_graph.vertices.count()))\n",
    "print(\"Trips: {0}\".format(trip_graph.edges.count()))"
   ]
  },
  {
   "cell_type": "markdown",
   "id": "bigger-recording",
   "metadata": {},
   "source": [
    "#### Determining the longest delay in this dataset"
   ]
  },
  {
   "cell_type": "code",
   "execution_count": null,
   "id": "secret-chick",
   "metadata": {},
   "outputs": [],
   "source": [
    "trip_graph.edges.groupBy().max(\"delay\").show()"
   ]
  },
  {
   "cell_type": "markdown",
   "id": "honest-prairie",
   "metadata": {},
   "source": [
    "#### Determining the number of delayed vs. on-time / early flights"
   ]
  },
  {
   "cell_type": "code",
   "execution_count": null,
   "id": "vocational-offering",
   "metadata": {},
   "outputs": [],
   "source": [
    "# Determining number of on-time / early flights vs. delayed flights\n",
    "print(\"On-time or Early Flights: {0}\".format(trip_graph.edges.filter(\"delay <= 0\").count()))\n",
    "print(\"Delayed Flights: {0}\".format(trip_graph.edges.filter(\"delay > 0\").count()))"
   ]
  },
  {
   "cell_type": "markdown",
   "id": "incoming-stocks",
   "metadata": {},
   "source": [
    "#### What flights departing SEA are most likely to have significant delays\n",
    "Note, delay can be <= 0 meaning the flight left on time or early"
   ]
  },
  {
   "cell_type": "code",
   "execution_count": null,
   "id": "fitted-citation",
   "metadata": {},
   "outputs": [],
   "source": [
    "trip_graph.edges.filter(\"src = 'SEA' and delay > 0\").groupBy(\"src\", \"dst\").avg(\"delay\").sort(fn.desc(\"avg(delay)\")).show(5)"
   ]
  },
  {
   "cell_type": "markdown",
   "id": "progressive-values",
   "metadata": {},
   "source": [
    "#### Most popular flights"
   ]
  },
  {
   "cell_type": "code",
   "execution_count": null,
   "id": "great-visitor",
   "metadata": {},
   "outputs": [],
   "source": [
    "#determine the most popular flights (single city hops)\n",
    "top_trips = trip_graph.edges.groupBy(\"src\", \"dst\").agg(fn.count(\"delay\").alias(\"trips\")) \n",
    "top_trips.orderBy(top_trips.trips.desc()).show()"
   ]
  },
  {
   "cell_type": "markdown",
   "id": "ultimate-double",
   "metadata": {},
   "source": [
    "### Vertex Degrees\n",
    "* `inDegrees`: Incoming connections to the airport\n",
    "* `outDegrees`: Outgoing connections from the airport \n",
    "* `degrees`: Total connections to and from the airport\n",
    "\n",
    "Reviewing the various properties of the property graph to understand the incoming and outgoing connections between airports."
   ]
  },
  {
   "cell_type": "code",
   "execution_count": null,
   "id": "copyrighted-brave",
   "metadata": {},
   "outputs": [],
   "source": [
    "#degrees\n",
    "#the number of degrees - the number of incoming and outgoing connections - for various airports within this sample dataset\n",
    "trip_graph.degrees.sort(fn.desc(\"degree\")).show()"
   ]
  },
  {
   "cell_type": "code",
   "execution_count": null,
   "id": "arabic-wesley",
   "metadata": {},
   "outputs": [],
   "source": [
    "#inDegrees\n",
    "#tThe number of degrees - the number of incoming connections - for various airports within this sample dataset\n",
    "trip_graph.inDegrees.sort(fn.desc(\"inDegree\")).show()"
   ]
  },
  {
   "cell_type": "code",
   "execution_count": null,
   "id": "structured-proposition",
   "metadata": {},
   "outputs": [],
   "source": [
    "#outDegrees\n",
    "#the number of degrees - the number of outgoing connections - for various airports within this sample dataset\n",
    "trip_graph.outDegrees.sort(fn.desc(\"outDegree\")).show(20)"
   ]
  },
  {
   "cell_type": "markdown",
   "id": "coral-sheriff",
   "metadata": {},
   "source": [
    "### City / Flight Relationships through Motif Finding\n",
    "To understand the complex relationship of city airports and their flights with each other, we can use motifs to find patterns of airports (i.e. vertices) connected by flights (i.e. edges). The result is a DataFrame in which the column names are given by the motif keys."
   ]
  },
  {
   "cell_type": "markdown",
   "id": "saved-democrat",
   "metadata": {},
   "source": [
    "### What delays might we blame on SFO"
   ]
  },
  {
   "cell_type": "code",
   "execution_count": null,
   "id": "elementary-ceramic",
   "metadata": {},
   "outputs": [],
   "source": [
    "#we use trip_graph_prime to more easily display \n",
    "#with motif finding\n",
    "#we show the associated edge (ab, bc) relationships \n",
    "#with the different the city / airports (a, b, c) where SFO is the connecting city (b)\n",
    "#by ensuring that flight ab (i.e. the flight to SFO) occured before flight bc (i.e. flight leaving SFO)\n",
    "#note that trip_id was generated based on time in the format of MMDDHHMM converted to int\n",
    "#therefore, bc.tripid < ab.tripid + 10000 means the second flight (bc) occured within approx a day of the first flight (ab)\n",
    "#but in reality, we should be more careful to link trips ab and bc.\n",
    "motifs = trip_graph_prime.find(\"(a)-[ab]->(b); (b)-[bc]->(c)\")\\\n",
    "                         .filter(\"(b.id = 'SFO') and (ab.delay > 300 or bc.delay > 300) and bc.trip_id > ab.trip_id and bc.trip_id < ab.trip_id + 10000\")\n",
    "motifs.show(truncate=False)"
   ]
  },
  {
   "cell_type": "markdown",
   "id": "informative-nation",
   "metadata": {},
   "source": [
    "### Determining Airport Ranking / Importance using PageRank\n",
    "There are a large number of flights and connections through these various airports included in this departure delay dataset.  With the `pageRank` algorithm, Spark iteratively traverses the graph and determines a rough estimate of how important the airport is."
   ]
  },
  {
   "cell_type": "code",
   "execution_count": null,
   "id": "super-proposal",
   "metadata": {},
   "outputs": [],
   "source": [
    "#determining airport ranking of importance using pageRank\n",
    "pageranks = trip_graph.pageRank(resetProbability=0.15, maxIter=5)\n",
    "pageranks.vertices.orderBy(pageranks.vertices.pagerank.desc()).show()"
   ]
  },
  {
   "cell_type": "markdown",
   "id": "cognitive-senegal",
   "metadata": {},
   "source": [
    "### Top Transfer Cities\n",
    "Many airports are used as transfer points instead of the final Destination.  An easy way to calculate this is by calculating the ratio of inDegree (the number of flights to the airport) / outDegree (the number of flights leaving the airport).  Values close to 1 may indicate many transfers, whereas values < 1 indicate many outgoing flights and > 1 indicate many incoming flights.  Note, this is a simple calculation that does not take into account of timing or scheduling of flights, just the overall aggregate number within the dataset."
   ]
  },
  {
   "cell_type": "code",
   "execution_count": null,
   "id": "informal-maple",
   "metadata": {},
   "outputs": [],
   "source": [
    "#calculate the inDegrees (flights into the airport) and outDegrees (flights leaving the airport)\n",
    "in_degree = trip_graph.inDegrees\n",
    "out_degree = trip_graph.outDegrees\n",
    "\n",
    "#calculate the degree_ratio (inDegrees/outDegrees)\n",
    "degree_ratio = in_degree.join(out_degree, 'id').selectExpr(\"id\", \"double(inDegree)/double(outDegree) as degree_ratio\")\n",
    "\n",
    "#join back to the airports dataFrame\n",
    "non_transfer_airports = degree_ratio.join(airports, degree_ratio.id == airports.IATA) \\\n",
    "                                    .selectExpr(\"id\", \"city\", \"degree_ratio\") \\\n",
    "                                    .filter(\"degree_ratio < 0.9 or degree_ratio > 1.1\")\n",
    "\n",
    "#list out the city airports which have abnormal degree ratios.\n",
    "non_transfer_airports.show()"
   ]
  },
  {
   "cell_type": "code",
   "execution_count": null,
   "id": "suspected-deputy",
   "metadata": {},
   "outputs": [],
   "source": [
    "#join back to the airports dataframe\n",
    "transfer_airports = degree_ratio.join(airports, degree_ratio.id == airports.IATA) \\\n",
    "                                .selectExpr(\"id\", \"city\", \"degree_ratio\") \\\n",
    "                                .filter(\"degree_ratio >= 0.9 and degree_ratio <= 1.1\")\n",
    "\n",
    "#list out the top 10 transfer city airports\n",
    "transfer_airports.orderBy(\"degree_ratio\", ascending=False).show(10)"
   ]
  },
  {
   "cell_type": "markdown",
   "id": "amino-pressure",
   "metadata": {},
   "source": [
    "### Breadth First Search \n",
    "Breadth-first search (BFS) is designed to traverse the graph to quickly find the desired vertices (i.e. airports) and edges (i.e flights).  Let's try to find the shortest number of connections between cities based on the dataset.  Note, these examples do not take into account of time or distance, just rough estimates."
   ]
  },
  {
   "cell_type": "code",
   "execution_count": null,
   "id": "spanish-function",
   "metadata": {},
   "outputs": [],
   "source": [
    "#case 1: direct flights from Seattle to San Francisco \n",
    "filtered_paths = trip_graph.bfs(fromExpr = \"id = 'SEA'\", toExpr = \"id = 'SFO'\", maxPathLength = 1)\n",
    "filtered_paths.show(truncate=False)"
   ]
  },
  {
   "cell_type": "markdown",
   "id": "major-lodge",
   "metadata": {},
   "source": [
    "As you can see, there are a number of direct flights between Seattle and San Francisco."
   ]
  },
  {
   "cell_type": "code",
   "execution_count": null,
   "id": "fewer-formula",
   "metadata": {},
   "outputs": [],
   "source": [
    "#case 2: direct flight from San Francisco and Buffalo\n",
    "filtered_paths = trip_graph.bfs(fromExpr = \"id = 'SFO'\", toExpr = \"id = 'BUF'\", maxPathLength = 1)\n",
    "filtered_paths.show()"
   ]
  },
  {
   "cell_type": "markdown",
   "id": "congressional-emphasis",
   "metadata": {},
   "source": [
    "But there are no direct flights between San Francisco and Buffalo."
   ]
  },
  {
   "cell_type": "code",
   "execution_count": null,
   "id": "center-assumption",
   "metadata": {},
   "outputs": [],
   "source": [
    "#case 3: one stop flights from San Francisco to Buffalo\n",
    "filtered_paths = trip_graph.bfs(fromExpr = \"id = 'SFO'\", toExpr = \"id = 'BUF'\", maxPathLength = 2)\n",
    "filtered_paths.show(truncate=False)"
   ]
  },
  {
   "cell_type": "markdown",
   "id": "known-calgary",
   "metadata": {},
   "source": [
    "But there are flights from San Francisco to Buffalo with Minneapolis as the transfer point. So what are the most popular layovers between `SFO` and `BUF`?"
   ]
  },
  {
   "cell_type": "code",
   "execution_count": null,
   "id": "covered-bradley",
   "metadata": {},
   "outputs": [],
   "source": [
    "#display most popular layover cities by descending count\n",
    "filtered_paths.groupBy(\"v1.id\", \"v1.City\").count().orderBy(fn.desc(\"count\")).show()"
   ]
  },
  {
   "cell_type": "markdown",
   "id": "fancy-holly",
   "metadata": {},
   "source": [
    "### Shortest Paths\n",
    "We can get shortest Paths from all vertices to the vertices (landmarks) we specify."
   ]
  },
  {
   "cell_type": "code",
   "execution_count": null,
   "id": "western-diagram",
   "metadata": {},
   "outputs": [],
   "source": [
    "trip_graph.shortestPaths(landmarks=[\"DEN\", \"ATL\"]).show()\n",
    "trip_graph.shortestPaths(landmarks=[\"DEN\", \"BUF\"]).show()"
   ]
  },
  {
   "cell_type": "markdown",
   "id": "lesser-broadcast",
   "metadata": {},
   "source": [
    "### Triangle Structure\n",
    "Triangle structure is a useful concept in network structure."
   ]
  },
  {
   "cell_type": "code",
   "execution_count": null,
   "id": "complete-carnival",
   "metadata": {},
   "outputs": [],
   "source": [
    "trip_graph.triangleCount().show()"
   ]
  },
  {
   "cell_type": "markdown",
   "id": "surface-trinity",
   "metadata": {},
   "source": [
    "### Graph Clustering\n",
    "Label Propagation is the approach to cluster gprah / network."
   ]
  },
  {
   "cell_type": "code",
   "execution_count": null,
   "id": "virgin-assistant",
   "metadata": {},
   "outputs": [],
   "source": [
    "clusters = trip_graph.labelPropagation(maxIter=5)\n",
    "clusters.orderBy(fn.asc('label')).show()"
   ]
  },
  {
   "cell_type": "code",
   "execution_count": null,
   "id": "standing-telephone",
   "metadata": {},
   "outputs": [],
   "source": [
    "clusters.select('label').distinct().count()"
   ]
  },
  {
   "cell_type": "code",
   "execution_count": null,
   "id": "ecological-import",
   "metadata": {},
   "outputs": [],
   "source": [
    "clusters.select('label').groupBy('label').count().show()"
   ]
  },
  {
   "cell_type": "code",
   "execution_count": null,
   "id": "recent-column",
   "metadata": {},
   "outputs": [],
   "source": [
    "#components = trip_graph.stronglyConnectedComponents(maxIter=10)\n",
    "#components.show()\n",
    "#components.select('component').distinct().count()"
   ]
  },
  {
   "cell_type": "markdown",
   "id": "employed-fault",
   "metadata": {},
   "source": [
    "## Visualize Network with Our Graph Analysis"
   ]
  },
  {
   "cell_type": "code",
   "execution_count": null,
   "id": "chemical-falls",
   "metadata": {},
   "outputs": [],
   "source": [
    "import networkx as nx\n",
    "import pandas as pd\n",
    "\n",
    "#turn the large network into a smaller one and create network from pandas\n",
    "vertice = trip_graph.vertices.toPandas()\n",
    "edges = trip_graph.edges.groupBy('src','dst').agg(fn.count('*').alias('flights'), fn.avg('delay').alias('avg_delay')).toPandas()\n",
    "ranks = pageranks.vertices.toPandas()\n",
    "labels = clusters.toPandas()\n",
    "#connected = components.toPandas()\n",
    "\n",
    "vertice.index = vertice['id']\n",
    "ranks.index = ranks['id']\n",
    "labels.index = labels['id']\n",
    "#connected.index = connected['id']\n",
    "\n",
    "ranks['pagerank'] = ranks['pagerank'] * 100\n",
    "edges['flights'] = edges['flights'] / 100\n",
    "\n",
    "graph = nx.from_pandas_edgelist(edges, 'src',  'dst', ['flights', 'avg_delay'])\n",
    "nx.set_node_attributes(graph, pd.Series(vertice.id, index=vertice.id).to_dict(), 'label')\n",
    "nx.set_node_attributes(graph, pd.Series(ranks.pagerank, index=ranks.id).to_dict(), 'size')\n",
    "nx.set_node_attributes(graph, pd.Series(labels.label, index=labels.id).to_dict(), 'group')\n",
    "#nx.set_node_attributes(graph, pd.Series(connected.component, index=connected.id).to_dict(), 'component')"
   ]
  },
  {
   "cell_type": "code",
   "execution_count": null,
   "id": "cardiovascular-scratch",
   "metadata": {},
   "outputs": [],
   "source": [
    "import matplotlib.pyplot as plt\n",
    "%matplotlib inline\n",
    "\n",
    "plt.rcParams['figure.figsize'] = [20, 20]\n",
    "\n",
    "nx.draw(graph)\n",
    "plt.figure()\n",
    "plt.show()"
   ]
  },
  {
   "cell_type": "code",
   "execution_count": null,
   "id": "velvet-brand",
   "metadata": {},
   "outputs": [],
   "source": [
    "#add node size by pagerank and edge width by flights\n",
    "pos = nx.spring_layout(graph, iterations=100)\n",
    "nx.draw_networkx_nodes(graph, pos = pos, node_size = list(nx.get_node_attributes(graph, 'size').values()))\n",
    "nx.draw_networkx_edges(graph, pos = pos, width = list(nx.get_edge_attributes(graph, 'flights').values()))\n",
    "nx.draw_networkx_labels(graph, pos = pos, font_color = 'r')\n",
    "plt.figure()\n",
    "plt.show()"
   ]
  },
  {
   "cell_type": "code",
   "execution_count": null,
   "id": "shared-encoding",
   "metadata": {},
   "outputs": [],
   "source": [
    "#add color for different clusters\n",
    "pos = nx.spring_layout(graph, iterations=100)\n",
    "nx.draw_networkx_nodes(graph, pos = pos, node_size = list(nx.get_node_attributes(graph, 'size').values()), node_color = list(nx.get_node_attributes(graph, 'group').values()), cmap = plt.cm.get_cmap('rainbow'))\n",
    "nx.draw_networkx_edges(graph, pos = pos, width = list(nx.get_edge_attributes(graph, 'flights').values()))\n",
    "nx.draw_networkx_labels(graph, pos = pos, font_color = 'r')\n",
    "plt.show()"
   ]
  },
  {
   "cell_type": "code",
   "execution_count": null,
   "id": "banner-match",
   "metadata": {},
   "outputs": [],
   "source": [
    "!pip install pyvis"
   ]
  },
  {
   "cell_type": "code",
   "execution_count": null,
   "id": "provincial-toolbox",
   "metadata": {},
   "outputs": [],
   "source": [
    "#alternatively use pyvis to visualize interactive graph\n",
    "from pyvis.network import Network\n",
    "\n",
    "net = Network(height=800, width=800, notebook=True)\n",
    "net.barnes_hut()\n",
    "net.from_nx(graph, node_size_transf=(lambda x: x/10))\n",
    "net.show('graph.html')"
   ]
  }
 ],
 "metadata": {
  "kernelspec": {
   "display_name": "Python 3",
   "language": "python",
   "name": "python3"
  },
  "language_info": {
   "codemirror_mode": {
    "name": "ipython",
    "version": 3
   },
   "file_extension": ".py",
   "mimetype": "text/x-python",
   "name": "python",
   "nbconvert_exporter": "python",
   "pygments_lexer": "ipython3",
   "version": "3.8.6"
  }
 },
 "nbformat": 4,
 "nbformat_minor": 5
}
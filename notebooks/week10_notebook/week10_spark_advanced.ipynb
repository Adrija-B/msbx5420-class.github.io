{
 "cells": [
  {
   "cell_type": "markdown",
   "id": "useful-infection",
   "metadata": {},
   "source": [
    "## Use Spark with Other Datastores (MySQL)"
   ]
  },
  {
   "cell_type": "code",
   "execution_count": null,
   "id": "sublime-iraqi",
   "metadata": {},
   "outputs": [],
   "source": [
    "#install mysql inside pyspark-notebook container\n",
    "#data is from https://dev.mysql.com/doc/employee/en/employees-installation.html\n",
    "\n",
    "#docker ps\n",
    "#docker exec -it --user root container_id bash\n",
    "#apt-get update\n",
    "#apt-get install mariadb-server\n",
    "#/etc/init.d/mysql start\n",
    "#wget https://github.com/datacharmer/test_db/archive/master.zip\n",
    "#unzip master.zip\n",
    "#cd test_db-master\n",
    "#mysql -u root < employees.sql\n",
    "#cd ..\n",
    "#mysql -u root\n",
    "#use mysql;\n",
    "#CREATE USER 'admin'@'localhost' IDENTIFIED BY 'Admin_01';\n",
    "#GRANT ALL PRIVILEGES ON *.* TO 'admin'@'localhost';\n",
    "#FLUSH PRIVILEGES;\n",
    "#exit\n",
    "\n",
    "#if you stop and restart the same container (via docker desktop), you need to start mysql first:\n",
    "#service mysql start"
   ]
  },
  {
   "cell_type": "code",
   "execution_count": null,
   "id": "tamil-roman",
   "metadata": {},
   "outputs": [],
   "source": [
    "#if you want to do it with terminal in jupyter, use -e GRANT_SUDO=yes --user root when starting the container, or do the commands below after docker ps and docker exec commands\n",
    "#echo \"jovyan ALL=(ALL:ALL) ALL\" >> /etc/sudoers\n",
    "#then in the terminal from jupyter\n",
    "#sudo su\n",
    "#then do the commands in the first cell"
   ]
  },
  {
   "cell_type": "code",
   "execution_count": null,
   "id": "generic-tongue",
   "metadata": {},
   "outputs": [],
   "source": [
    "from pyspark.sql import SparkSession\n",
    "spark = SparkSession.builder.master('local[4]').config(\"spark.jars\", \"mysql-connector-java-8.0.23.jar\").appName('spark_advanced').getOrCreate()"
   ]
  },
  {
   "cell_type": "code",
   "execution_count": null,
   "id": "wicked-manhattan",
   "metadata": {},
   "outputs": [],
   "source": [
    "#make sure you specify jar file when creating spark session and then read from mysql here\n",
    "employee_df = spark.read.format(\"jdbc\").option(\"url\", \"jdbc:mysql://localhost:3306/employees\") \\\n",
    "                   .option(\"driver\", \"com.mysql.jdbc.Driver\").option(\"dbtable\", \"employees\") \\\n",
    "                   .option(\"user\", \"admin\").option(\"password\", \"Admin_01\").load()"
   ]
  },
  {
   "cell_type": "code",
   "execution_count": null,
   "id": "north-adoption",
   "metadata": {},
   "outputs": [],
   "source": [
    "employee_df.show()\n",
    "employee_df.count()"
   ]
  }
 ],
 "metadata": {
  "kernelspec": {
   "display_name": "Python 3",
   "language": "python",
   "name": "python3"
  },
  "language_info": {
   "codemirror_mode": {
    "name": "ipython",
    "version": 3
   },
   "file_extension": ".py",
   "mimetype": "text/x-python",
   "name": "python",
   "nbconvert_exporter": "python",
   "pygments_lexer": "ipython3",
   "version": "3.8.8"
  }
 },
 "nbformat": 4,
 "nbformat_minor": 5
}
